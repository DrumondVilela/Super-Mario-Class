{
  "nbformat": 4,
  "nbformat_minor": 0,
  "metadata": {
    "colab": {
      "name": "Super Mario Class - Listas e Dicionários.ipynb",
      "provenance": [],
      "authorship_tag": "ABX9TyOm0Ubvhb3magwOQXP7RYhv",
      "include_colab_link": true
    },
    "kernelspec": {
      "name": "python3",
      "display_name": "Python 3"
    },
    "language_info": {
      "name": "python"
    }
  },
  "cells": [
    {
      "cell_type": "markdown",
      "metadata": {
        "id": "view-in-github",
        "colab_type": "text"
      },
      "source": [
        "<a href=\"https://colab.research.google.com/github/pedroh6s/super_mario_class/blob/main/02ListaseDicionarios.ipynb\" target=\"_parent\"><img src=\"https://colab.research.google.com/assets/colab-badge.svg\" alt=\"Open In Colab\"/></a>"
      ]
    },
    {
      "cell_type": "markdown",
      "metadata": {
        "id": "o-PoOzgvimCr"
      },
      "source": [
        "Os dados desse notebook foram extraídos de: https://www.mariowiki.com/Super_Mario_World#Power-ups_and_transformations"
      ]
    },
    {
      "cell_type": "markdown",
      "metadata": {
        "id": "dSpGGoeAbCt2"
      },
      "source": [
        "As listas são conjuntos de variáveis;\n",
        "\n",
        "Dentro de uma lista cada item único possui um lugar, um espaço, uma posição;\n",
        "\n",
        "Essa posição é chamada de índice;\n",
        "\n",
        "Nas listas Índices são numéricos;\n",
        "\n",
        "Por mais que seja natural para humanos começar a partir do 1, no python a contagem de inicia em 0;\n",
        "\n",
        "Então o primeiro elemento da lista terá índice 0, o segundo índice 1 e assim por diante."
      ]
    },
    {
      "cell_type": "code",
      "metadata": {
        "id": "MUEEARj58ZeG"
      },
      "source": [
        "#Quantitativo de mundos e fases no jogo Super Mario World\n",
        "n_mundos_mario = 7\n",
        "mundo1 = 7\n",
        "mundo2 = 11\n",
        "mundo3 = 11\n",
        "mundo4 = 6\n",
        "mundo5 = 9\n",
        "mundo6 = 9\n",
        "mundo7 = 9"
      ],
      "execution_count": null,
      "outputs": []
    },
    {
      "cell_type": "code",
      "metadata": {
        "id": "_MWtdPxHqQpV"
      },
      "source": [
        "#Formas de iniciar uma lista \n",
        "exemplo_lista = []\n",
        "outra_forma_de_lista = list()"
      ],
      "execution_count": 1,
      "outputs": []
    },
    {
      "cell_type": "code",
      "metadata": {
        "id": "EyL7g33NlRgF"
      },
      "source": [
        "print(exemplo_lista)"
      ],
      "execution_count": null,
      "outputs": []
    },
    {
      "cell_type": "code",
      "metadata": {
        "id": "1sBACTMApX0K"
      },
      "source": [
        "#Listas Simples\n",
        "\n",
        "mundos_mario = [\"Yoshi's Island\", \"Donut Plains\", \"Vanilla Dome\", \"Twins Bridges\", \"Forest of Illusion\",\n",
        "                \"Chocolate Island\", \"Valley of Bowser\"]\n",
        "\n",
        "yoshis_island = [\"Yoshi's Island 1\", \"Yoshi's Island 2\", \"Yoshi's Island 3\", \"Yoshi's Island 4\", \"Yoshi's House\",\n",
        "                 \"Yellow Switch Palace\", \"#1 Iggy's Castle\"]\n",
        "\n",
        "donut_plains = [\"Donut Plains 1\", \"Donut Plains 2\", \"Donut Plains 3\", \"Donut Plains 4\", \"Donut Ghost House\",\n",
        "                \"Green Switch Palace\", \"Top Secret Area\", \"#2 Morton's Castle\", \"Donut Secret 1\",\n",
        "                \"Donut Secret 2\",\t\"Donut Secret House\"]\n",
        "\n",
        "vanilla_dome = [\"Vanilla Dome 1\", \"Vanilla Dome 2\", \"Vanilla Dome 3\", \"Vanilla Dome 4\", \"Vanilla Ghost House\",\n",
        "                \"Red Switch Palace\", \"Vanilla Fortress\", \"#3 Lemmy's Castle\", \"Vanilla Secret 1\",\n",
        "                \"Vanilla Secret 2\", \"Vanilla Secret 3\"]\n",
        "\n",
        "twins_bridges = [\"Butter Bridge 1\", \"Butter Bridge 2\", \"#4 Ludwig's Castle\", \n",
        "                 \"Cheese Bridge Area\", \"Soda Lake\", \"Cookie Mountain\"]\n",
        "\n",
        "forest_of_illusion = [\"Forest of Illusion 1\", \"Forest of Illusion 2\", \"Forest of Illusion 3\",\n",
        "                      \"Forest of Illusion 4\", \"Forest Ghost House\", \"Blue Switch Palace\", \"Forest Fortress\",\n",
        "                      \"#5 Roy's Castle\", \"Forest Secret Area\"]\n",
        "\n",
        "chocolate_island = [\"Chocolate Island 1\", \"Chocolate Island 2\", \"Chocolate Island 3\", \"Chocolate Island 4\",\n",
        "                    \"Chocolate Island 5\", \"Choco-Ghost House\", \"Chocolate Fortress\", \"#6 Wendy's Castle\",\n",
        "                    \"Chocolate Secret\"]\n",
        "\n",
        "valley_of_bowser = [\"Valley of Bowser 1\", \"Valley of Bowser 2\", \"Valley of Bowser 3\", \"Valley of Bowser 4\",\n",
        "                    \"Valley Ghost House\", \"Valley Fortress\", \"#7 Larry's Castle\", \"Front Door and Back Door\",\n",
        "                    \"Sunken Ghost Ship\"]\n"
      ],
      "execution_count": 30,
      "outputs": []
    },
    {
      "cell_type": "code",
      "metadata": {
        "id": "Xxy5Q1EJ4mWk"
      },
      "source": [
        "#Procurar elementos em uma lista\n",
        "\n",
        "#Imprimir uma lista\n",
        "print(mundos_mario)\n",
        "\n",
        "#Imprimir elementos específicos de uma lista\n",
        "print(mundos_mario[1])"
      ],
      "execution_count": null,
      "outputs": []
    },
    {
      "cell_type": "code",
      "metadata": {
        "id": "4RAseaX1qZKD"
      },
      "source": [
        "#Listas compostas\n",
        "mundos_fases = [yoshis_island, donut_plains, vanilla_dome, twins_bridges, forest_of_illusion,\n",
        "                chocolate_island, valley_of_bowser]"
      ],
      "execution_count": 29,
      "outputs": []
    },
    {
      "cell_type": "code",
      "metadata": {
        "colab": {
          "base_uri": "https://localhost:8080/"
        },
        "id": "nXbpdc00qZOB",
        "outputId": "04ee3c02-9e08-4a4f-cb42-3581d86f2439"
      },
      "source": [
        "#Imprimir listas compostas\n",
        "print(mundos_fases)\n",
        "\n",
        "#Imprimir elementos em listas compostas\n",
        "print(mundos_fases[1][3])"
      ],
      "execution_count": 10,
      "outputs": [
        {
          "output_type": "stream",
          "name": "stdout",
          "text": [
            "Donut Plains 4\n"
          ]
        }
      ]
    },
    {
      "cell_type": "code",
      "metadata": {
        "id": "oEhz6DVHx4Cf"
      },
      "source": [
        "#Exemplo\n",
        "grupo = ['Mari', 'Bruno', 'Paty', 'Pedro', 'André Victor']\n",
        "altura = [1.61, 1.79, 1.84, 1.78, 1.86]\n",
        "lista_completa = [grupo, altura]\n",
        "print(f'O nome dessa pessoa é {lista_completa[0][4]} e sua altura é {lista_completa[1][4]}m')\n",
        "print(lista_completa[0][2],lista_completa[1][2])"
      ],
      "execution_count": null,
      "outputs": []
    },
    {
      "cell_type": "code",
      "metadata": {
        "id": "ksdYfaCPV31_"
      },
      "source": [
        "#Principais funções listas.\n",
        "#len\n",
        "#append\n",
        "#remove\n",
        "#clear"
      ],
      "execution_count": null,
      "outputs": []
    },
    {
      "cell_type": "code",
      "metadata": {
        "id": "0Eij6wwoTd1h"
      },
      "source": [
        "#len\n",
        "print(len(mundos_mario))\n",
        "print(len(mundos_fases[2]))"
      ],
      "execution_count": null,
      "outputs": []
    },
    {
      "cell_type": "code",
      "metadata": {
        "id": "KIkBNPb6TkTH"
      },
      "source": [
        "#append\n",
        "print(mundos_mario)\n",
        "print(len(mundos_mario))\n",
        "mundos_mario.insert(0, 'novo mundo, mundo 8')\n",
        "print(mundos_mario)\n",
        "print(len(mundos_mario))"
      ],
      "execution_count": null,
      "outputs": []
    },
    {
      "cell_type": "code",
      "metadata": {
        "id": "t1wSS1KGTkh4"
      },
      "source": [
        "#remove\n",
        "print(mundos_mario)\n",
        "print(len(mundos_mario))\n",
        "mundos_mario.remove('novo mundo, mundo 8')\n",
        "print(mundos_mario)\n",
        "print(len(mundos_mario))"
      ],
      "execution_count": null,
      "outputs": []
    },
    {
      "cell_type": "code",
      "metadata": {
        "id": "Cr_nY3DOWFYH"
      },
      "source": [
        "#clear\n",
        "print(mundos_mario)\n",
        "print(len(mundos_mario))\n",
        "mundos_mario.clear()\n",
        "print(mundos_mario)\n",
        "print(len(mundos_mario))"
      ],
      "execution_count": null,
      "outputs": []
    },
    {
      "cell_type": "code",
      "metadata": {
        "id": "a5J0I307c740"
      },
      "source": [
        "#Outra forma de limpar listas\n",
        "print(mundos_fases)\n",
        "print(len(mundos_fases))\n",
        "mundos_fases = []\n",
        "print(mundos_fases)\n",
        "print(len(mundos_fases))"
      ],
      "execution_count": null,
      "outputs": []
    },
    {
      "cell_type": "markdown",
      "metadata": {
        "id": "0TU-hr2p4iHT"
      },
      "source": [
        "**Exercício**\n",
        "\n",
        "Receba números do usuário e armazene em uma lista.\n",
        "\n",
        "Calcule a média desses números.\n",
        "\n",
        "Crie uma segunda lista contendo os números abaixo da média e \n",
        "uma terceira lista com os números acima da média.\n",
        "\n",
        "Exiba todas as três listas.  "
      ]
    },
    {
      "cell_type": "code",
      "metadata": {
        "id": "mJAXsedX_9ek"
      },
      "source": [
        "#Resolução\n",
        "\n",
        "numeros = []\n",
        "acima_media = []\n",
        "abaixo_media = []\n",
        "\n",
        "total = int(input('Quantos números você irá informar? '))\n",
        "\n",
        "for c in range(0, total):\n",
        "  num = float(input(f'Digite o {c+1}º número: '))\n",
        "  numeros.append(num)\n",
        "\n",
        "media = sum(numeros) / len(numeros)\n",
        "\n",
        "for item in range(0, len(numeros)):\n",
        "  if numeros[item] > media:\n",
        "    acima_media.append(numeros[item])\n",
        "  elif numeros[item] < media:\n",
        "    abaixo_media.append(numeros[item])\n",
        "\n",
        "print('=-'*30)\n",
        "\n",
        "print(f'''Os números digitados foram {numeros}.\n",
        "A média dos valores informados é {media}.\n",
        "Os números abaixo da média são {abaixo_media}.\n",
        "Os números acima da média são {acima_media}.''')"
      ],
      "execution_count": null,
      "outputs": []
    },
    {
      "cell_type": "markdown",
      "metadata": {
        "id": "lrcUb9PJoTP-"
      },
      "source": [
        "**DICIONÁRIOS**\n",
        "\n",
        "Os dicionários também são variáveis compostas;\n",
        "\n",
        "Dentro de um dicionário cada item único possui um lugar, um espaço, uma posição;\n",
        "\n",
        "Essa posição é chamada de índice;\n",
        "\n",
        "Ao contrário das listas, nos dicionários os Índices não são numéricos;\n",
        "\n",
        "Todo índice dentro de um dicionário é identificado também por uma string\n",
        "\n",
        "Os índices são chamados de chaves, dentro de cada chave nós temos um valor.\n",
        "\n",
        "Cada par chave valor é chamado de item."
      ]
    },
    {
      "cell_type": "code",
      "metadata": {
        "colab": {
          "base_uri": "https://localhost:8080/"
        },
        "id": "ZvsfbbDCpOoX",
        "outputId": "d103e3f3-ca43-4c31-dcb3-c53c8e79971a"
      },
      "source": [
        "#Formas de iniciar um dicionário\n",
        "exemplo_dicionario = {}\n",
        "outro_forma_de_dicionario = dict()\n",
        "\n",
        "print(exemplo_dicionario)"
      ],
      "execution_count": 43,
      "outputs": [
        {
          "output_type": "stream",
          "name": "stdout",
          "text": [
            "{}\n"
          ]
        }
      ]
    },
    {
      "cell_type": "code",
      "metadata": {
        "id": "7G39YMcB9fxh"
      },
      "source": [
        "#Dicionários simples\n",
        "\n",
        "dic_mundos_mario = {\n",
        "              \"mundo 2\": \"Donut Plains\",\n",
        "              \"mundo 3\": \"Vanilla Dome\", \n",
        "              \"mundo 4\": \"Twins Bridges\",\n",
        "              \"mundo 5\": \"Forest of Illusion\",\n",
        "              \"mundo 6\": \"Chocolate Island\",\n",
        "              \"mundo 7\": \"Valley of Bowser\",\n",
        "              \"mundo 1\": \"Yoshi's Island\"}\n",
        "\n",
        "dic_yoshis_island = {\"fase 1\": \"Yoshi's Island 1\",\n",
        "                 \"fase 2\": \"Yoshi's Island 2\", \n",
        "                 \"fase 3\": \"Yoshi's Island 3\", \n",
        "                 \"fase 4\": \"Yoshi's Island 4\", \n",
        "                 \"fase 5\": \"Yoshi's House\", \n",
        "                 \"fase 6\": \"Yellow Switch Palace\", \n",
        "                 \"castelo\": \"#1 Iggy's Castle\"}\n",
        "\n",
        "dic_donut_plains = {\"fase 1\": \"Donut Plains 1\",\n",
        "                \"fase 2\": \"Donut Plains 2\",\n",
        "                \"fase 3\": \"Donut Plains 3\",\n",
        "                \"fase 4\": \"Donut Plains 4\",\n",
        "                \"fase 5\": \"Donut Ghost House\",\n",
        "                \"fase 6\": \"Green Switch Palace\", \n",
        "                \"fase 7\": \"Top Secret Area\", \n",
        "                \"castelo\": \"#2 Morton's Castle\", \n",
        "                \"fase secreta 1\": \"Donut Secret 1\", \n",
        "                \"fase secreta 2\": \"Donut Secret 2\",\n",
        "                \"fase secreta 3\": \"Donut Secret House\"}\n",
        "\n",
        "dic_vanilla_dome = {\"fase 1\": \"Vanilla Dome 1\",\n",
        "                \"fase 2\": \"Vanilla Dome 2\",\n",
        "                \"fase 3\": \"Vanilla Dome 3\", \n",
        "                \"fase 4\": \"Vanilla Dome 4\",\n",
        "                \"fase 5\": \"Vanilla Ghost House\",\n",
        "                \"fase 6\": \"Red Switch Palace\", \n",
        "                \"fase 7\": \"Vanilla Fortress\",\n",
        "                \"castelo\": \"#3 Lemmy's Castle\",\n",
        "                \"fase secreta 1\": \"Vanilla Secret 1\", \n",
        "                \"fase secreta 2\": \"Vanilla Secret 2\",\n",
        "                \"fase secreta 3\": \"Vanilla Secret 3\"}\n",
        "\n",
        "dic_twins_bridges = {\"fase 1\": \"Butter Bridge 1\",\n",
        "                 \"fase 2\": \"Butter Bridge 2\",\n",
        "                 \"castelo\": \"#4 Ludwig's Castle\", \n",
        "                 \"fase 3\": \"Cheese Bridge Area\",\n",
        "                 \"fase 4\": \"Soda Lake\",\n",
        "                 \"fase 5\": \"Cookie Mountain\"}\n",
        "                \n",
        "dic_forest_of_illusion = {\"fase 1\": \"Forest of Illusion 1\",\n",
        "                      \"fase 2\": \"Forest of Illusion 2\", \n",
        "                      \"fase 3\": \"Forest of Illusion 3\",\n",
        "                      \"fase 4\": \"Forest of Illusion 4\", \n",
        "                      \"fase 6\": \"Forest Ghost House\",\n",
        "                      \"fase 7\": \"Blue Switch Palace\", \n",
        "                      \"fase 8\": \"Forest Fortress\",\n",
        "                      \"castelo\": \"#5 Roy's Castle\", \n",
        "                      \"fase secreta 1\": \"Forest Secret Area\"}\n",
        "\n",
        "dic_chocolate_island = {\"fase 1\": \"Chocolate Island 1\",\n",
        "                    \"fase 2\": \"Chocolate Island 2\", \n",
        "                    \"fase 3\": \"Chocolate Island 3\",\n",
        "                    \"fase 4\": \"Chocolate Island 4\", \n",
        "                    \"fase 5\": \"Chocolate Island 5\",\n",
        "                    \"fase 6\": \"Choco-Ghost House\", \n",
        "                    \"fase 7\": \"Chocolate Fortress\",\n",
        "                    \"castelo\": \"#6 Wendy's Castle\", \n",
        "                    \"fase secreta 1\": \"Chocolate Secret\"}\n",
        "\n",
        "dic_valley_of_bowser = {\"fase 1\": \"Valley of Bowser 1\",\n",
        "                    \"fase 2\": \"Valley of Bowser 2\", \n",
        "                    \"fase 3\": \"Valley of Bowser 3\",\n",
        "                    \"fase 4\": \"Valley of Bowser 4\", \n",
        "                    \"fase 5\": \"Valley Ghost House\",\n",
        "                    \"fase 6\": \"Valley Fortress\", \n",
        "                    \"castelo\": \"#7 Larry's Castle\",\n",
        "                    \"castelo principal hard\": \"Front Door\",\n",
        "                    \"castelo principal easy\": \"Back Door\", \n",
        "                    \"fase secreta 1\": \"Sunken Ghost Ship\"}"
      ],
      "execution_count": 44,
      "outputs": []
    },
    {
      "cell_type": "code",
      "metadata": {
        "id": "CrQBg1KRmXwB"
      },
      "source": [
        "#Procurar elementos em um dicionário\n",
        "print(dic_mundos_mario['mundo 1'])\n",
        "\n",
        "#Imprimir um dicionário\n",
        "print(dic_valley_of_bowser)"
      ],
      "execution_count": null,
      "outputs": []
    },
    {
      "cell_type": "code",
      "metadata": {
        "id": "_7f9Uo7Yng9F"
      },
      "source": [
        "#Organizar itens na sua lista\n",
        "#Imprimir elementos específicos de um dicionário\n",
        "sorted(dic_mundos_mario.keys())\n",
        "\n",
        "print(dic_mundos_mario)"
      ],
      "execution_count": null,
      "outputs": []
    },
    {
      "cell_type": "code",
      "metadata": {
        "id": "ZjJGHCtumXwC"
      },
      "source": [
        "#Principais funções dicionários.\n",
        "#Inserir valores\n",
        "#Remover valores\n",
        "#Limpar o dicionário"
      ],
      "execution_count": null,
      "outputs": []
    },
    {
      "cell_type": "code",
      "metadata": {
        "id": "aqq87bD3mXwC"
      },
      "source": [
        "#Inserir valores\n",
        "print(dic_valley_of_bowser)\n",
        "dic_valley_of_bowser['fase 8'] = 'novo mundo, criei agora'\n",
        "print(dic_valley_of_bowser)\n"
      ],
      "execution_count": null,
      "outputs": []
    },
    {
      "cell_type": "code",
      "metadata": {
        "id": "GITyrXKImXwC"
      },
      "source": [
        "#Remover valores\n",
        "print(dic_valley_of_bowser)\n",
        "del dic_valley_of_bowser['fase 8']\n",
        "print(dic_valley_of_bowser)"
      ],
      "execution_count": null,
      "outputs": []
    },
    {
      "cell_type": "code",
      "metadata": {
        "colab": {
          "base_uri": "https://localhost:8080/"
        },
        "id": "Bf4bhckumXwD",
        "outputId": "278f308c-440a-4c58-8bdb-856e34a62db2"
      },
      "source": [
        "#clear\n",
        "print(dic_valley_of_bowser)\n",
        "dic_valley_of_bowser = {}\n",
        "print(dic_valley_of_bowser)"
      ],
      "execution_count": 65,
      "outputs": [
        {
          "output_type": "stream",
          "name": "stdout",
          "text": [
            "{'fase 1': 'Valley of Bowser 1', 'fase 2': 'Valley of Bowser 2', 'fase 3': 'Valley of Bowser 3', 'fase 4': 'Valley of Bowser 4', 'fase 5': 'Valley Ghost House', 'fase 6': 'Valley Fortress', 'castelo': \"#7 Larry's Castle\", 'castelo principal hard': 'Front Door', 'castelo principal easy': 'Back Door', 'fase secreta 1': 'Sunken Ghost Ship', 2: 'inventei uma fase nova aqui', 'fase 8': 'jkdjhkjvkjhsdfh.0'}\n",
            "{}\n"
          ]
        }
      ]
    },
    {
      "cell_type": "code",
      "metadata": {
        "id": "EWVrkbPuMSYp"
      },
      "source": [
        "# Dicionário composto\n",
        "\n",
        "dic_mundos_fases = {\"mundo 1\": {\"nome\": \"Yoshi's Island\",\n",
        "                                \"fase 1\": \"Yoshi's Island 1\", \n",
        "                                \"fase 2\": \"Yoshi's Island 2\", \n",
        "                                \"fase 3\": \"Yoshi's Island 3\", \n",
        "                                \"fase 4\": \"Yoshi's Island 4\", \n",
        "                                \"fase 5\": \"Yoshi's House\", \n",
        "                                \"fase 6\": \"Yellow Switch Palace\", \n",
        "                                \"castelo\": \"#1 Iggy's Castle\"\n",
        "                                },\n",
        "                    \"mundo 2\": {\"nome\": \"Donut Plains\",\n",
        "                                \"fase 1\": \"Donut Plains 1\",\n",
        "                                \"fase 2\": \"Donut Plains 2\",\n",
        "                                \"fase 3\": \"Donut Plains 3\",\n",
        "                                \"fase 4\": \"Donut Plains 4\",\n",
        "                                \"fase 5\": \"Donut Ghost House\",\n",
        "                                \"fase 6\": \"Green Switch Palace\", \n",
        "                                \"fase 7\": \"Top Secret Area\", \n",
        "                                \"castelo\": \"#2 Morton's Castle\", \n",
        "                                \"fase secreta 1\": \"Donut Secret 1\", \n",
        "                                \"fase secreta 2\": \"Donut Secret 2\",\n",
        "                                \"fase secreta 3\": \"Donut Secret House\"\n",
        "                                },\n",
        "                    \"mundo 3\": {\"nome\": \"Vanilla Dome\",\n",
        "                                \"fase 1\": \"Vanilla Dome 1\",\n",
        "                                \"fase 2\": \"Vanilla Dome 2\",\n",
        "                                \"fase 3\": \"Vanilla Dome 3\", \n",
        "                                \"fase 4\": \"Vanilla Dome 4\",\n",
        "                                \"fase 5\": \"Vanilla Ghost House\",\n",
        "                                \"fase 6\": \"Red Switch Palace\", \n",
        "                                \"fase 7\": \"Vanilla Fortress\",\n",
        "                                \"castelo\": \"#3 Lemmy's Castle\",\n",
        "                                \"fase secreta 1\": \"Vanilla Secret 1\", \n",
        "                                \"fase secreta 2\": \"Vanilla Secret 2\",\n",
        "                                \"fase secreta 3\": \"Vanilla Secret 3\"\n",
        "                                },\n",
        "                    \"mundo 4\": {\"nome\": \"Twins Bridges\",\n",
        "                                \"fase 1\": \"Butter Bridge 1\",\n",
        "                                \"fase 2\": \"Butter Bridge 2\",\n",
        "                                \"castelo\": \"#4 Ludwig's Castle\", \n",
        "                                \"fase 3\": \"Cheese Bridge Area\",\n",
        "                                \"fase 4\": \"Soda Lake\",\n",
        "                                \"fase 5\": \"Cookie Mountain\"\n",
        "                                },\n",
        "                    \"mundo 5\": {\"nome\": \"Forest of Illusion\",\n",
        "                                \"fase 1\": \"Forest of Illusion 1\",\n",
        "                                \"fase 2\": \"Forest of Illusion 2\", \n",
        "                                \"fase 3\": \"Forest of Illusion 3\",\n",
        "                                \"fase 4\": \"Forest of Illusion 4\", \n",
        "                                \"fase 6\": \"Forest Ghost House\",\n",
        "                                \"fase 7\": \"Blue Switch Palace\", \n",
        "                                \"fase 8\": \"Forest Fortress\",\n",
        "                                \"castelo\": \"#5 Roy's Castle\", \n",
        "                                \"fase secreta 1\": \"Forest Secret Area\"\n",
        "                                },\n",
        "                    \"mundo 6\": {\"nome\": \"Chocolate Island\",\n",
        "                                \"fase 1\": \"Chocolate Island 1\",\n",
        "                                \"fase 2\": \"Chocolate Island 2\", \n",
        "                                \"fase 3\": \"Chocolate Island 3\",\n",
        "                                \"fase 4\": \"Chocolate Island 4\", \n",
        "                                \"fase 5\": \"Chocolate Island 5\",\n",
        "                                \"fase 6\": \"Choco-Ghost House\", \n",
        "                                \"fase 7\": \"Chocolate Fortress\",\n",
        "                                \"castelo\": \"#6 Wendy's Castle\", \n",
        "                                \"fase secreta 1\": \"Chocolate Secret\"\n",
        "                                },\n",
        "                    \"mundo 7\": {\"nome\": \"Valley of Bowser\",\n",
        "                                \"fase 1\": \"Valley of Bowser 1\",\n",
        "                                \"fase 2\": \"Valley of Bowser 2\", \n",
        "                                \"fase 3\": \"Valley of Bowser 3\",\n",
        "                                \"fase 4\": \"Valley of Bowser 4\", \n",
        "                                \"fase 5\": \"Valley Ghost House\",\n",
        "                                \"fase 6\": \"Valley Fortress\", \n",
        "                                \"castelo\": \"#7 Larry's Castle\",\n",
        "                                \"castelo principal hard\": \"Front Door\",\n",
        "                                \"castelo principal easy\": \"Back Door\", \n",
        "                                \"fase secreta 1\": \"Sunken Ghost Ship\"\n",
        "                                },\n",
        "                    }"
      ],
      "execution_count": 67,
      "outputs": []
    },
    {
      "cell_type": "code",
      "metadata": {
        "id": "f4qu4TgAMUFt"
      },
      "source": [
        "#Imprimir dicionários compostos\n",
        "print(dic_mundos_fases)\n",
        "\n",
        "#Imprimir elementos em dicionários compostos\n",
        "print(dic_mundos_fases['mundo 7'].keys())\n",
        "print(dic_mundos_fases['mundo 7']['castelo principal easy'])"
      ],
      "execution_count": null,
      "outputs": []
    },
    {
      "cell_type": "code",
      "metadata": {
        "id": "73SlCGkIunxL"
      },
      "source": [
        "#Vamos procurar dinamicamente no nosso dicionário\n",
        "\n",
        "mundo = input('Qual mundo você gostaria de procurar? ')\n",
        "\n",
        "if mundo not in dic_mundos_fases.keys():\n",
        "  print(f'Você solicitou o mundo {mundo}. E não encontramos esse valor em nossa fonte de dados.')\n",
        "  \n",
        "else:\n",
        "  fase = input('Qual o nome da fase que você gostaria de procurar? ')\n",
        "\n",
        "  if fase in dic_mundos_fases[mundo].keys():\n",
        "    print(f'Você escolheu o nível {fase} do {mundo} que se chama {dic_mundos_fases[mundo][fase]}.')\n",
        "  else:\n",
        "   print(f'Você solicitou o nível {fase}. E não encontramos esse valor em nossa fonte de dados.')"
      ],
      "execution_count": null,
      "outputs": []
    }
  ]
}
