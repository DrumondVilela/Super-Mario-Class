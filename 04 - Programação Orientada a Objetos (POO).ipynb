{
  "nbformat": 4,
  "nbformat_minor": 0,
  "metadata": {
    "colab": {
      "name": "POO",
      "provenance": [],
      "collapsed_sections": [],
      "include_colab_link": true
    },
    "kernelspec": {
      "name": "python3",
      "display_name": "Python 3"
    },
    "language_info": {
      "name": "python"
    }
  },
  "cells": [
    {
      "cell_type": "markdown",
      "metadata": {
        "id": "view-in-github",
        "colab_type": "text"
      },
      "source": [
        "<a href=\"https://colab.research.google.com/github/pedroh6s/super_mario_class/blob/main/POO.ipynb\" target=\"_parent\"><img src=\"https://colab.research.google.com/assets/colab-badge.svg\" alt=\"Open In Colab\"/></a>"
      ]
    },
    {
      "cell_type": "markdown",
      "metadata": {
        "id": "ZcJ-Le4Lotnq"
      },
      "source": [
        "Na programação orientada à objetos o foco é na criação de objetos que contem tanto os dados quanto as funcionalidades. Em geral, a definição de cada objeto corresponde a algum objeto ou conceito no mundo real e as funções que operam sobre tal objeto correspondem as formas que os objetos reais interagem.\n",
        "Nós já vimos classes como str, int, float que foram definidas pelo Python e disponibilizadas para nós usarmos. No entanto, em muitos casos quando estamos resolvendo problemas, precisamos criar objetos de dados relacionados ao problema que estamos tentando resolver. Precisamos criar nossas próprias classes."
      ]
    },
    {
      "cell_type": "markdown",
      "metadata": {
        "id": "mGQAcWtkovME"
      },
      "source": [
        "Classes: As classes são como um Molde de criação, esse molde possui características e funcionalidades, que chamamos de atributos e métodos, respectivamente.\n",
        "\n",
        "Objetos: Os objetos são cada criação de uma variável cujo tipo é uma classe, no qual chamamos de instanciação \n",
        "\n",
        "Métodos: funções (ações) da classe - pegar_item, andar, e pular\n",
        "\n",
        "Atributos: variáveis (características) da classe - nome e cor\n"
      ]
    },
    {
      "cell_type": "markdown",
      "metadata": {
        "id": "Z1c2u3Vdo2cD"
      },
      "source": [
        "Construtor: é uma função-metodo executada automaticamente na\n",
        "criação do objeto, é declarado com def __init__(self,nome,cor,moedas). Ela te dá a oportunidade de configurar os atributos necessários dentro da nova instância, dando-lhes seus valores iniciais. \n",
        "\n",
        "Self: O parâmetro self (você poderia escolher qualquer outro nome). É definido automaticamente para referenciar o objeto recém-criado que precisa ser inicializado.\n",
        "\n",
        "\n"
      ]
    },
    {
      "cell_type": "code",
      "metadata": {
        "colab": {
          "base_uri": "https://localhost:8080/"
        },
        "id": "n-NkU1ywWw6X",
        "outputId": "edd696d6-6435-42e1-917e-f94564ce017b"
      },
      "source": [
        "#Exemplo Mario - Heroi\n",
        "\n",
        "class Heroi:\n",
        "  def __init__(self,nome,cor,moedas):\n",
        "    self.nome = nome\n",
        "    self.cor = cor\n",
        "    self.moedas = 0\n",
        "\n",
        "  def pegar_item(self,item):\n",
        "\n",
        "    if item == 'super_cogumelo':\n",
        "      print('Você pegou o Super Cogumelo!\\nAgora você possui super força!')\n",
        "\n",
        "    elif item == 'flor_de_fogo':\n",
        "      print('Você pegou a Flor de Fogo!\\nSolte bolas de fogo pelas mãos!🔥')\n",
        "      \n",
        "    elif item == 'pena_capa':\n",
        "      print('Você pegou a Pena Capa!\\nPlane pelos ares!')\n",
        "\n",
        "    elif item == 'super_estrela':\n",
        "      print('Você pegou a Super Estrela!\\nVocê está invencível temporariamente')\n",
        "\n",
        "    elif item == 'cogumelo_1Up':\n",
        "      print('Você ganhou UMA vida!')\n",
        "    \n",
        "    elif item == 'lua_3Up':\n",
        "      print('Você ganhou TRÊS vidas!')\n",
        "\n",
        "  def andar(self, direcao):\n",
        "    print(f'Andando para {direcao}')\n",
        "  def pular(self):\n",
        "    print(f'Pulando...')\n",
        "  def pegar_moeda(self):\n",
        "     self.moedas =+ 1        \n",
        "\n",
        "mario = Heroi('Mario','Vermelho',0)\n",
        "mario.pegar_moeda()\n",
        "print(mario.nome,\"-\",mario.cor,\"-\",mario.moedas)\n",
        "mario.__dict__"
      ],
      "execution_count": null,
      "outputs": [
        {
          "output_type": "stream",
          "name": "stdout",
          "text": [
            "Mario - Vermelho - 1\n"
          ]
        },
        {
          "output_type": "execute_result",
          "data": {
            "text/plain": [
              "{'cor': 'Vermelho', 'moedas': 1, 'nome': 'Mario'}"
            ]
          },
          "metadata": {},
          "execution_count": 3
        }
      ]
    },
    {
      "cell_type": "markdown",
      "metadata": {
        "id": "Bx7dhke1oszM"
      },
      "source": [
        "Herança: Quando uma classe herda as propriedades (métodos e atributos) de outra classe. Quando temos uma herança direta, dizemos que a classe que herda é a classe “filha” e a classe principal é chamada de classe “mãe”. Uma classe pode herdar “características” de uma ou mais classes, quando herdada de apenas uma classe, esta é chamada de herança simples ou binária, quando uma classe filha herda de duas ou mais classes, é chamada de herança múltipla.\n",
        "\n",
        "Encapsulamento: Esconder - Define quais atributos e métodos de uma classe estarão disponíveis para acesso. São utilizados para proteção dos atributos ou métodos de uma classe, em Python existem somente o public e o private e eles são definidos no próprio nome do atributo ou método. Logo, Atributos ou métodos iniciados por no máximo dois sublinhados (__)  e terminados por um sublinhado(__) são privados e todas as outras formas são públicas. Metodos privados __metodo__() e Atributos privados self.__atributo\n",
        "\n",
        "Polimorfismo: permite usar uma única interface com diferentes tipos de dados, diferentes classes ou até mesmo um número diferente de entradas. Ou seja, sobrescrever determinados métodos quando temos herança. \n",
        "\n"
      ]
    },
    {
      "cell_type": "code",
      "metadata": {
        "id": "akN80KfgfHU0"
      },
      "source": [
        "#Exemplo Caixa Eletronico\n",
        "\n",
        "class ContaBancaria():\n",
        "  def __init__(self,numero_conta,titular,saldo):\n",
        "    self.numero_conta = numero_conta\n",
        "    self.titular = titular\n",
        "    self.saldo = 0\n",
        "\n",
        "  def __sacar(self,valor): pass\n",
        "  def __depositar(self,valor): pass\n",
        "  def __extrato(self): pass\n",
        "\n",
        "class ContaCorrente(ContaBancaria):\n",
        "  def __init__(self,numero_conta,titular, saldo, limite=100):\n",
        "        super().__init__(numero_conta,titular, saldo)\n",
        "        self.limite = limite\n",
        "\n",
        "  def extrato(self):\n",
        "    print()\n",
        "    print(\"-\"*30,\"Conta Corrente\",\"-\"*30)\n",
        "    print(f\"Numero da conta: {self.numero_conta}\\nTitular: {self.titular}\\nSaldo: {self.saldo}\\n\")\n",
        "\n",
        "  def sacar(self, valor):\n",
        "        if (self.saldo + self.limite) < valor:\n",
        "            print('Saldo insuficiente')\n",
        "            return   \n",
        "        \n",
        "        self.saldo -= valor\n",
        "        self.extrato() \n",
        "\n",
        "  def depositar(self,valor):\n",
        "    self.saldo += valor\n",
        "    self.extrato()             \n",
        "  \n",
        "class ContaPoupanca(ContaBancaria):\n",
        "  def __init__(self,numero_conta,titular, saldo):\n",
        "        super().__init__(numero_conta,titular, saldo)\n",
        "\n",
        "  def extrato(self):\n",
        "    print()\n",
        "    print(\"-\"*30,\"Conta Poupança\",\"-\"*30)\n",
        "    print(f\"Numero da conta: {self.numero_conta}\\nTitular: {self.titular}\\nSaldo: {self.saldo}\\n\")\n",
        "  def sacar(self, valor):\n",
        "        if (self.saldo) < valor:\n",
        "            print('Saldo insuficiente')\n",
        "            return   \n",
        "        \n",
        "        self.saldo -= valor\n",
        "        self.extrato() \n",
        "\n",
        "  def depositar(self,valor):\n",
        "    self.saldo += valor\n",
        "    self.extrato()\n",
        "\n",
        "'''CB = ContaBancaria(0000,'Maria',0)\n",
        "CB.sacar(100)\n",
        "'''\n",
        "\n",
        "CC = ContaCorrente(1944,'Mari',0,0)\n",
        "CC.sacar(500)\n",
        "CC.depositar(1000)\n",
        "CC.sacar(100)\n",
        "\n",
        "CP = ContaPoupanca(1111,'Ana',0)\n",
        "CP.sacar(100)\n",
        "CP.depositar(200)\n"
      ],
      "execution_count": null,
      "outputs": []
    }
  ]
}
