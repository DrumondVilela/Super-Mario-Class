{
  "nbformat": 4,
  "nbformat_minor": 0,
  "metadata": {
    "colab": {
      "name": "SuperMarioClass.ipynb",
      "provenance": [],
      "collapsed_sections": [],
      "authorship_tag": "ABX9TyPRcCIVFOoQqhsynI8JI2O4",
      "include_colab_link": true
    },
    "kernelspec": {
      "name": "python3",
      "display_name": "Python 3"
    },
    "language_info": {
      "name": "python"
    }
  },
  "cells": [
    {
      "cell_type": "markdown",
      "metadata": {
        "id": "view-in-github",
        "colab_type": "text"
      },
      "source": [
        "<a href=\"https://colab.research.google.com/github/pedroh6s/super_mario_class/blob/main/SuperMarioClass.ipynb\" target=\"_parent\"><img src=\"https://colab.research.google.com/assets/colab-badge.svg\" alt=\"Open In Colab\"/></a>"
      ]
    },
    {
      "cell_type": "markdown",
      "metadata": {
        "id": "6oStQ3OQsP24"
      },
      "source": [
        "# Revisão de Python\n",
        "\n",
        "#### vamos revisitar os pontos principais da linguagem e mostrar a utilização das estruturas com exemplos ao longo da apresentação\n",
        "\n",
        "* A LINGUAGEM EM SI:  é muito amigável e possibilita, alem da utilização nas areas de dados, tambem é possivel de desenvolver aplicações desktop, web e até jogos. A sintaxe é bastante simples e proxima do que falamos habitualmente o que facilita muito no desenvolver do código\n",
        "\n",
        "* ESQUEÇA OS MITOS:  não existe uma unica maneira ou jeito absolutamente certo de escrever uma solução, desde que a semantica/lógica entregue o resultado esperado para aquele problema.  \n",
        "\n",
        "* o código pode ser escrito com base em estrutura simples (o que geralmente resulta em um codigo mais extenso, com mais linhas e menos viavel de reutilizar em outros programas)     Mas a medida que conhecemos os recursos da linguagem e entendemos o funcionamento de estrutura conseguimos deixar o código mais otimizado e possivel de ser reutilizado\n",
        "\n",
        "* PAPEL ANTES DO COMPUTADOR: use e abuse do papel !!! Não é possivel escrever um código todo de uma unica vez. Analise o enunciado do problema e identifique os pontos chave, assim como as variaveis e estruturas que serão utilizados.\n",
        "\n",
        "\n",
        "\n",
        "\n",
        "\n",
        "\n"
      ]
    },
    {
      "cell_type": "markdown",
      "metadata": {
        "id": "Z3cD9L0uFPp8"
      },
      "source": [
        "\n",
        "# **SUPER MARIO CLASS**\n",
        "\n",
        "### Fase 1: **Condição / Repetição**\n",
        "\n",
        "\n",
        "### Objetivo escolher um herói e seus movimentos sem quebrar o código\n",
        "\n",
        "* estrutura de condição: **if / elif / else**\n",
        "(usado sempre que é necessária uma tomada de decisão)\n",
        "\n",
        "* estrutura de repetição: **while / for**\n",
        "(usado sempre que é necessária repetição de uma instrução)\n",
        "\n",
        "\n",
        "### ambas estruturas podem ser: \n",
        "    * simples\n",
        "    * composta ou aninhadas\n",
        " \n",
        "\n"
      ]
    },
    {
      "cell_type": "code",
      "metadata": {
        "id": "mNmIK73bAlaz"
      },
      "source": [
        "#FASE 1\n",
        "#OBJETIVO: escolher um herói e seus movimentos sem \"quebrar o código\"\n",
        "\n",
        "#definindo as variáveis da Fase 1 do jogo:\n",
        "heroi = ''\n",
        "movimento = ''\n",
        "\n",
        "#variaveis recebendo entrada de dados sem nenhum controle\n",
        "heroi = str(input('Digite nome do seu herói: ')).strip().upper()\n",
        "movimento = str(input('Digite movimento do herói: ')).strip().upper()\n",
        "\n",
        "#exibindo o valor das variáveis \n",
        "print()\n",
        "print('--'*20)\n",
        "print(f'O nome do seu herói é: {heroi} e seu movimento é: {movimento}')\n",
        "\n",
        "\n",
        "\n"
      ],
      "execution_count": null,
      "outputs": []
    },
    {
      "cell_type": "code",
      "metadata": {
        "id": "PEEIG_GnueN8"
      },
      "source": [
        "#definindo as variáveis já com valores pré definidos em variáveis composta \n",
        "\n",
        "heroi = ['Mario', 'Luigi']\n",
        "movimento = ['andar','pular','deitar']\n",
        "\n",
        "meuHeroi = int(input('''Escolha seu herói: \n",
        "    [ 1 ] Mario \n",
        "    [ 2 ] Luigi\n",
        "        : ''' ))\n",
        "\n",
        "if meuHeroi == 1:\n",
        "    nomeHeroi = heroi[0]\n",
        "    habilidade = movimento[0]\n",
        "\n",
        "elif meuHeroi == 2:\n",
        "    nomeHeroi = heroi[1]\n",
        "    habilidade = movimento[1]\n",
        "\n",
        "else:\n",
        "    nomeHeroi = 'desconhecido'\n",
        "    habilidade = 'Não ter habilidade'\n",
        "print()\n",
        "print('--'*20)\n",
        "print(f' Heroi escolhido: {nomeHeroi.upper()} e sua habilidade é: {habilidade.upper()} ')\n"
      ],
      "execution_count": null,
      "outputs": []
    },
    {
      "cell_type": "code",
      "metadata": {
        "id": "ASe9IHmQXfuH"
      },
      "source": [
        "# AGORA PRECISO VALIDAR A ENTRADA DO MEU USUARIO\n",
        "\n",
        "# se digitar algo diferente de [ 1 ] ou [ 2 ] como por exemplo [ a ] o código\n",
        "# deve alertar o erro mas sem \"quebrar a execução\" \n",
        "\n",
        "\n",
        "#definindo as variáveis da Fase 1 do jogo:\n",
        "heroi = ['Mario', 'Luigi']\n",
        "movimento = ['andar', 'pular','deitar']\n",
        "\n",
        "\n",
        "#estruturando o validador...\n",
        "while True:\n",
        "    try:\n",
        "        #tentar \"pegar\" um VALOR INTEIRO entre 1 e 2\n",
        "        meuHeroi = int(input('''ESCOLHA SEU HERÓI: \n",
        "        [ 1 ] Mario \n",
        "        [ 2 ] Luigi''' ))\n",
        "        \n",
        "        #essa linha retem os INTEIROS digitados que são diferentes de 1 ou 2\n",
        "        while meuHeroi != 1 and meuHeroi !=2:\n",
        "            meuHeroi = int(input('\\n Heroi inválido! Digite [1] ou [2]: '))\n",
        "\n",
        "        #essa linha compara se o INTEIRO está entre 1 ou 2 para\n",
        "        if meuHeroi == 1 or meuHeroi == 2:  \n",
        "            break\n",
        "\n",
        "    #essa linha retém as entradas de tipos diferentes de INT    \n",
        "    except:\n",
        "        print('\\n Herói inválido! Tente novamente...')\n",
        "\n",
        "\n",
        "if meuHeroi == 1:\n",
        "    nomeHeroi = heroi[0]\n",
        "    habilidade = movimento[0]\n",
        "\n",
        "else:\n",
        "    nomeHeroi = heroi[1]\n",
        "    habilidade = movimento[1]\n",
        "print('--'*20)\n",
        "print(f'\\n Heroi escolhido: {nomeHeroi.upper()} e sua habilidade é: {habilidade.upper()} ')\n",
        "\n"
      ],
      "execution_count": null,
      "outputs": []
    },
    {
      "cell_type": "markdown",
      "metadata": {
        "id": "UGyYMlizfYyz"
      },
      "source": [
        "# **VAMOS AO JOGO** ! \n",
        "\n",
        "###  OBJETIVO: coletar moedas ao longo do percurso para atingir a meta. \n",
        "\n",
        "### CUIDADO COM A VELOCIDADE!! Nem sempre chegar mais rápido é sinal de vitória ;)\n",
        "\n"
      ]
    },
    {
      "cell_type": "code",
      "metadata": {
        "id": "EklYkf-3fVKg"
      },
      "source": [
        "#AGORA QUE VOCÊ JÁ DEFINIU SEU HERÓI VAMOS JOGAR \n",
        "\n",
        "# importando as bibliotecas\n",
        "\n",
        "from random import randint\n",
        "from time import sleep\n",
        "\n",
        "percurso = randint(1,19) #variavel recebe valor aletório entre 1 e 19\n",
        "metaMoeda = randint(1,49) #variavel recebe valor aleatorio entre 1 e 49\n",
        "\n",
        "\n",
        "if habilidade == 'andar':\n",
        "    velocidade = 2\n",
        "\n",
        "elif habilidade == 'pular':\n",
        "    velocidade = 3\n",
        "\n",
        "print('--'*20)\n",
        "print()\n",
        "print(f'A velocidade atual do seu herói {nomeHeroi} é de {velocidade} milhas/hora. ')\n",
        "aumentar = (input('''Aumentar Velocidade? \n",
        "        [ Y ] Yes\n",
        "        [ N ] No \n",
        "            : ''')).strip().upper()\n",
        "\n",
        "print()\n",
        "while aumentar not in 'YyNn':\n",
        "    aumentar = (input('Digite apenas [Y] ou [N]: '))\n",
        "\n",
        "if aumentar in 'Yy':\n",
        "    maisVelocidade = int(input('Aumentar quanto de velocidade: '))\n",
        "    velocidade += maisVelocidade\n",
        "    print(f'Sua VELOCIDADE ATUAL é de {velocidade} milhas/hora')\n",
        "\n",
        "elif aumentar in 'Nn':\n",
        "    velocidade = velocidade\n",
        "\n",
        "print()\n",
        "#mostrando as moedas coletas em cada fase do jogo\n",
        "fase = 1\n",
        "totMoedas = 0\n",
        "for c in range (1, percurso, velocidade):\n",
        "    print(f' -fase {fase} + {c:^4} moedas conquistadas')\n",
        "    fase += 1\n",
        "    totMoedas += c\n",
        "\n",
        "print('--'*20)\n",
        "print(f'Percurso Percorrido: {percurso} milhas')\n",
        "#print(f'Total de moedas coletadas no jogo: {totMoedas}')\n",
        "print('--'*20)\n",
        "\n",
        "print('RESULTADO:')\n",
        "sleep(2)\n",
        "if totMoedas >= metaMoeda:\n",
        "    print('Você.',end='')\n",
        "    sleep(1.5)\n",
        "    print('.',end='')\n",
        "    sleep(1.5)\n",
        "    print('.',end='')\n",
        "    sleep(2)\n",
        "    print('GANHOU!!!')\n",
        "    print()\n",
        "\n",
        "else:\n",
        "    print('Não foi dessa vez... ')\n",
        "    print()\n",
        "\n",
        "print(f'Meta de Moedas: {metaMoeda}')\n",
        "print(f'Total Moedas Coletadas: {totMoedas}')\n",
        "\n",
        "#passosChegada = percurso /velocidade\n",
        "#print(passosChegada)\n"
      ],
      "execution_count": null,
      "outputs": []
    },
    {
      "cell_type": "code",
      "metadata": {
        "id": "4nE1IvmUjWff"
      },
      "source": [
        ""
      ],
      "execution_count": null,
      "outputs": []
    },
    {
      "cell_type": "code",
      "metadata": {
        "id": "-pj-ETumcPj3"
      },
      "source": [
        "'''A prefeitura de Cafundó do Judas abriu uma linha de crédito para os funcionários. \n",
        "O valor máximo da prestação não poderá ultrapassar 30% do salário bruto. \n",
        "Fazer um algoritmo onde o usuário informa seu salário bruto e o valor da \n",
        "prestação e o programa exibe na tela se o empréstimo pode ou não ser concedido.'''"
      ],
      "execution_count": null,
      "outputs": []
    },
    {
      "cell_type": "code",
      "metadata": {
        "id": "IEA6YjxeK66E"
      },
      "source": [
        "'''Em uma competição de ginástica, cada atleta recebe votos de SETE JURADOS. \n",
        "A MELHOR e a PIOR NOTA são ELIMINADAS. A NOTA do ATLETA fica sendo A MEDIA \n",
        "dos VOTOS RESTANTES. Você deve fazer um programa que RECEBER o NOME do GINASTA\n",
        " e AS NOTAS DOS SETE JURADOS alcançadas pelo atleta em sua apresentação.\n",
        "  Seu programa deve exibir a média, conforme a descrição acima (retirar o \n",
        "  melhor e o pior salto e depois calcular a média com as notas restantes). \n",
        "  As notas não são informadas ordenadas.''' \n"
      ],
      "execution_count": null,
      "outputs": []
    },
    {
      "cell_type": "code",
      "metadata": {
        "id": "qo7np783Qskg"
      },
      "source": [
        "#1 DAS SOLUÇÕES POSSIVEIS PARA O EXERCICIO DA GINASTA\n",
        "\n",
        "#1º momento identificar e ler as variaveis\n",
        "\n",
        "#variavel auxiliar que vai receber a soma de todas as notas digitadas\n",
        "totalNotas = 0\n",
        "\n",
        "#lendo nome ginasta\n",
        "nomeGinasta = (input('Nome ginasta: '))\n",
        "\n",
        "#usando a estrutura de repetição FOR pra fazer a leitura das 7 notas\n",
        "for c in range (1,8):\n",
        "    nota = float(input(f'Digite {c}ª nota: '))\n",
        "\n",
        "    if c == 1:\n",
        "        maiorNota = menorNota = nota\n",
        "    else: \n",
        "        if nota > maiorNota: \n",
        "            maiorNota = nota\n",
        "        if nota < menorNota:\n",
        "            menorNota = nota\n",
        "    c += 1\n",
        "    totalNotas += nota\n",
        "\n",
        "media = (totalNotas - (maiorNota + menorNota))/5\n",
        "\n",
        "print('--'*20)\n",
        "print(f'Maior Nota: {maiorNota}')\n",
        "print(f'Menor Nota: {menorNota}')\n",
        "print(f'Ginasta: {nomeGinasta.upper()} | Media de notas válidas: {media:.2f}')\n",
        "\n"
      ],
      "execution_count": null,
      "outputs": []
    },
    {
      "cell_type": "code",
      "metadata": {
        "id": "WK5eDtY0KSbd"
      },
      "source": [
        "'''Crie um dicionário e receba do usuário os dados para as seguintes: \n",
        "nome, idade, email, profissão, cidade e telefone. Faça um FOR para exibir \n",
        "cada um desses valores, inclusive as chaves.  '''\n",
        "\n",
        "\n",
        "usuario = dict()\n",
        "usuario['nome'] = input('Digite Nome: ')\n",
        "usuario['idade'] = input('Digite Idade: ')\n",
        "usuario['email'] = input('Digite email: ')\n",
        "usuario['profissao'] = input('Digite Profissão: ')\n",
        "usuario['cidade'] = input('Digite Cidade: ')\n",
        "usuario['telefone'] = input('Digite Telefone: ')\n",
        "\n",
        "\n",
        "print('--'*15)\n",
        "#uma maneira de exibir chave + valor\n",
        "for registro in usuario.items():\n",
        "    print(f'{registro}')\n",
        "\n",
        "#outra maneira de exibir chave + valor com print personalizado\n",
        "for k, v in usuario.items():\n",
        "    print(f'{k} = {v}')\n",
        "\n"
      ],
      "execution_count": null,
      "outputs": []
    },
    {
      "cell_type": "code",
      "metadata": {
        "id": "Gd1MtdyDMThX"
      },
      "source": [
        ""
      ],
      "execution_count": null,
      "outputs": []
    }
  ]
}
