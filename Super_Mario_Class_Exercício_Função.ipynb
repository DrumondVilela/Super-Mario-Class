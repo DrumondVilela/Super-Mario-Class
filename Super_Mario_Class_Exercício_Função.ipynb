{
  "nbformat": 4,
  "nbformat_minor": 0,
  "metadata": {
    "colab": {
      "name": "Super Mario Class - Exercício Função.ipynb",
      "provenance": [],
      "toc_visible": true,
      "authorship_tag": "ABX9TyM0Q5zzYADgjjD+vaJMCHD+",
      "include_colab_link": true
    },
    "kernelspec": {
      "name": "python3",
      "display_name": "Python 3"
    },
    "language_info": {
      "name": "python"
    }
  },
  "cells": [
    {
      "cell_type": "markdown",
      "metadata": {
        "id": "view-in-github",
        "colab_type": "text"
      },
      "source": [
        "<a href=\"https://colab.research.google.com/github/pedroh6s/super_mario_class/blob/main/Super_Mario_Class_Exerc%C3%ADcio_Fun%C3%A7%C3%A3o.ipynb\" target=\"_parent\"><img src=\"https://colab.research.google.com/assets/colab-badge.svg\" alt=\"Open In Colab\"/></a>"
      ]
    },
    {
      "cell_type": "markdown",
      "metadata": {
        "id": "GWPxTGkq9BcP"
      },
      "source": [
        "# Como definimos uma função ?\n"
      ]
    },
    {
      "cell_type": "markdown",
      "metadata": {
        "id": "cJI4W0oL9fGO"
      },
      "source": [
        "- ### A minha função é mesmo necessária ?\n",
        "- ### Qual será o objetivo da minha função ? \n",
        "- ### Ela vai precisar de um parâmetro ?\n",
        "- ### Eu precisarei guardar o retorno ?\n"
      ]
    },
    {
      "cell_type": "code",
      "metadata": {
        "id": "LR3TWEt_8-wP"
      },
      "source": [
        ""
      ],
      "execution_count": 16,
      "outputs": []
    },
    {
      "cell_type": "markdown",
      "metadata": {
        "id": "3LjGt6Ye9NYi"
      },
      "source": [
        "# Exercício:\n"
      ]
    },
    {
      "cell_type": "code",
      "metadata": {
        "id": "6-YjGv0z0Aif"
      },
      "source": [
        "# Crie uma função que recebe o salário bruto de um empregado e retorne o salário líquido.\n",
        "# Sobre o salário bruto são feitos os seguintes descontos:\n",
        "# INSS: 9% \n",
        "# Vale Transporte: 6%\n",
        "# Imposto de renda: varia de acordo com a seguinte tabela  \n",
        "# Até R$ 1.903,98: isento  \n",
        "# De R$ 1.903,99 até R$ 2.826,65: 7,5%  \n",
        "# De R$ 2.826,66 até R$ 3.751,05: 15% \n",
        "# De R$ 3.751,06 até R$ 4.664,68: 22,5%   \n",
        "# Acima de R$ 4.664,68: 27,5% \n",
        "# Crie um programa que recebe do usuário o salário bruto, chame a função acima e exiba o salário líquido. "
      ],
      "execution_count": 3,
      "outputs": []
    },
    {
      "cell_type": "code",
      "metadata": {
        "id": "60dBl2mx24_M"
      },
      "source": [
        "# Bora pra cima!!\n"
      ],
      "execution_count": null,
      "outputs": []
    }
  ]
}