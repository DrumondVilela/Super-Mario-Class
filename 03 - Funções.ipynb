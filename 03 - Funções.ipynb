{
  "nbformat": 4,
  "nbformat_minor": 0,
  "metadata": {
    "colab": {
      "name": "03 - Funções.ipynb",
      "provenance": [],
      "authorship_tag": "ABX9TyN7au5AZzPxYL20MmvnfJ/o",
      "include_colab_link": true
    },
    "kernelspec": {
      "name": "python3",
      "display_name": "Python 3"
    },
    "language_info": {
      "name": "python"
    }
  },
  "cells": [
    {
      "cell_type": "markdown",
      "metadata": {
        "id": "view-in-github",
        "colab_type": "text"
      },
      "source": [
        "<a href=\"https://colab.research.google.com/github/pedroh6s/Super-Mario-Class/blob/main/03%20-%20Fun%C3%A7%C3%B5es.ipynb\" target=\"_parent\"><img src=\"https://colab.research.google.com/assets/colab-badge.svg\" alt=\"Open In Colab\"/></a>"
      ]
    },
    {
      "cell_type": "markdown",
      "metadata": {
        "id": "GWPxTGkq9BcP"
      },
      "source": [
        "# Como definimos uma função ?\n"
      ]
    },
    {
      "cell_type": "markdown",
      "metadata": {
        "id": "cJI4W0oL9fGO"
      },
      "source": [
        "# Funções:\n",
        "\n",
        "## Definição => \n",
        "    Conjunto de linhas de código que tem como objetivo executar determinada função.\n",
        "É importante lembrar que uma função pode ser “invocada” em outros códigos, sendo \n",
        "importada.\n",
        "(Substitui repetições de código e tornar mais fácil a programação)\n",
        "\n",
        "## Ex.:\n",
        "Imagine que está construindo uma calculadora e que para cada escolha do usuário haverá uma resposta do programa, nesse caso, deve ser feita uma função para cada operação para não ocorrer tantas repetições e o programa não ficar cansativo de ser escrito\n",
        "\n",
        "    def soma(x,y):\n",
        "\n",
        "    return x+y\n",
        "\n",
        "    def subtracao(x,y):\n",
        "\n",
        "    return x-y\n",
        "        .\n",
        "        .\n",
        "        .\n",
        "    Assim por diante…\n",
        "\n",
        "## Mas por que utilizar “return” ?\n",
        "\n",
        "Imagine que você queira armazenar o valor de x+y, caso seja utilizado o print nessa situação, ele irá apenas mostrar o resultado, não podendo ser armazenado numa variável.\n",
        "Caso utilize o famoso “return”, este valor poderá ser armazenado dentro de uma variável (soma_total por exemplo) para ser utilizada mais tarde no seu código.\n",
        "\n",
        "## Ex.:\n",
        "    # Função para multiplicar dois números\n",
        "    def multiplica(x,y):\n",
        "      return x * y\n",
        "\n",
        "    # Agora já com a função criada, vamos ver como poderíamos armazenar o retorno da função\n",
        "    num1 = float(input('Digite um número qualquer para ver o seu dobro: '))\n",
        "    dobro = multiplica(2,num1)\n",
        "    print(dobro)\n",
        "\n",
        "    num2 = float(input('Digite um número qualquer para ver o seu quádruplo: '))\n",
        "    quadruplo = multiplica(4,num2)\n",
        "    print(quadruplo)\n",
        "\n",
        "    # Dessa forma, podemos utilizar a função de diversas formas diferentes!\n",
        "\n",
        "### “Ah, mas eu não sei como definir funções...”\n",
        "\n",
        "### Uma função deve ser definida da seguinte maneira:\n",
        "\n",
        "    def nome_função(parâmetro opcional):\n",
        "      (aqui vai o que você quer que a função faça)\n",
        "      return opcional (o que você quiser que ela te retorne)\n",
        "\n",
        "E pronto, a função foi criada e está pronta para ser utilizada no código atual ou em outros códigos!! 😁\n"
      ]
    },
    {
      "cell_type": "code",
      "metadata": {
        "id": "3qcNA08y7vvE"
      },
      "source": [
        ""
      ],
      "execution_count": null,
      "outputs": []
    }
  ]
}